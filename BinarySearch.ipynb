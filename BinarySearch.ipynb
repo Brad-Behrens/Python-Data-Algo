{
 "cells": [
  {
   "cell_type": "code",
   "execution_count": 1,
   "metadata": {},
   "outputs": [
    {
     "data": {
      "text/plain": [
       "True"
      ]
     },
     "execution_count": 1,
     "metadata": {},
     "output_type": "execute_result"
    }
   ],
   "source": [
    "# Binary Search Algorithm\n",
    "\n",
    "\"\"\"\n",
    "Presented a sorted array of elements determine if a target value is present in the list.\n",
    "\n",
    "1) Linear search - Loop through entire list => O(n)\n",
    "2) Binary Search => O(Log(n))\n",
    "\n",
    "n elements => reduce iteration by 1/2 each pass => n/2^k => k = log2(n)\n",
    "\n",
    "Algorithm:\n",
    "\n",
    "- Compare target value with middle element\n",
    "- If x == middle element => return middle element\n",
    "- If x > middle element => We recur to right half of array\n",
    "- If x < middle element => We recur to left half of the array\n",
    "\"\"\"\n",
    "\n",
    "array = [2,3,5,7,8,9,2,14,17,19,22,25,27,28,33,37]\n",
    "target = 28\n",
    "\n",
    "# Brute force solution - loop through entire list O(n)\n",
    "def linear_search(array, target):\n",
    "    for i in range(len(data)):\n",
    "        if data[i] == target:\n",
    "            return True\n",
    "    return False\n",
    "\n",
    "# Iterative Binary Search\n",
    "def binary_search_iterative(array, target):\n",
    "    # Establish low and high values\n",
    "    low = 0\n",
    "    high = len(array) - 1\n",
    "    \n",
    "    # Calculate midpoint, get it's value and compare to target.\n",
    "    while low <= high:\n",
    "        mid = low + (high - low) // 2\n",
    "        mid_val = array[mid]\n",
    "        \n",
    "        # target < mid => set high = mid - 1 , target > mid => set low = mid + 1\n",
    "        if mid_val == target:\n",
    "            return True\n",
    "        elif target < mid_val:\n",
    "            high = mid - 1\n",
    "        else:\n",
    "            low = mid + 1\n",
    "    return None\n",
    "\n",
    "binary_search_iterative(array, target)"
   ]
  },
  {
   "cell_type": "code",
   "execution_count": null,
   "metadata": {},
   "outputs": [],
   "source": []
  }
 ],
 "metadata": {
  "kernelspec": {
   "display_name": "Python 3",
   "language": "python",
   "name": "python3"
  },
  "language_info": {
   "codemirror_mode": {
    "name": "ipython",
    "version": 3
   },
   "file_extension": ".py",
   "mimetype": "text/x-python",
   "name": "python",
   "nbconvert_exporter": "python",
   "pygments_lexer": "ipython3",
   "version": "3.7.3"
  }
 },
 "nbformat": 4,
 "nbformat_minor": 2
}
