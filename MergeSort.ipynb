{
 "cells": [
  {
   "cell_type": "code",
   "execution_count": 12,
   "metadata": {},
   "outputs": [
    {
     "name": "stdout",
     "output_type": "stream",
     "text": [
      "[23, 12, 6, 10, 22, 28, 34, 20, 21, 32]\n",
      "[6, 10, 12, 20, 21, 22, 23, 28, 32, 34]\n"
     ]
    }
   ],
   "source": [
    "# Merge Sort Algorithm\n",
    "\n",
    "\"\"\"\n",
    "Divide & Conquer algorithm. \n",
    "\n",
    "1 - Array[n] => Array1[n/2] & Array2[n/2] (continued halvening)\n",
    "2 - Arrays recombined in sorting order\n",
    "\n",
    "=> Larger memory consumption due to not in-place sorting\n",
    "\n",
    "Time Complexity: O(nlog(n))\n",
    "\"\"\"\n",
    "\n",
    "# Function that creates array with randomly generated numbers\n",
    "def create_array(size=10,max=50):\n",
    "    from random import randint\n",
    "    return [randint(0,max) for _ in range(size)]\n",
    "\n",
    "# Merge method for merging two sorted arrays\n",
    "def merge(a,b):\n",
    "    c = [] # output array\n",
    "    a_idx, b_idx = 0, 0 # index of array's a and b\n",
    "    \n",
    "    # Comparing sorted elements from a and b and appending elements to new array c.\n",
    "    while a_idx<len(a) and b_idx<len(b):\n",
    "        \n",
    "        if a[a_idx] < b[b_idx]:\n",
    "            c.append(a[a_idx])\n",
    "            a_idx += 1\n",
    "        else:\n",
    "            c.append(b[b_idx])\n",
    "            b_idx += 1\n",
    "    \n",
    "    # If one array is depleted, append the rest of the other array to array c.\n",
    "    if a_idx==len(a):\n",
    "        c.extend(b[b_idx:])\n",
    "    else:\n",
    "        c.extend(a[a_idx:])\n",
    "    return c\n",
    "\n",
    "\n",
    "# Merge sort function\n",
    "def merge_sort(a):\n",
    "    \n",
    "    # Base Case\n",
    "    if len(a) <= 1:\n",
    "        return a\n",
    "    \n",
    "    # Split array by using merge sort recursively\n",
    "    mid = len(a) // 2\n",
    "    left,right = merge_sort(a[:mid]), merge_sort(a[mid:])\n",
    "    \n",
    "    # merge sorted sublists\n",
    "    return merge(left,right)\n",
    "\n",
    "# Testing Merge sort\n",
    "a = create_array()\n",
    "print(a)\n",
    "s = merge_sort(a)\n",
    "print(s)"
   ]
  },
  {
   "cell_type": "code",
   "execution_count": null,
   "metadata": {},
   "outputs": [],
   "source": []
  }
 ],
 "metadata": {
  "kernelspec": {
   "display_name": "Python 3",
   "language": "python",
   "name": "python3"
  },
  "language_info": {
   "codemirror_mode": {
    "name": "ipython",
    "version": 3
   },
   "file_extension": ".py",
   "mimetype": "text/x-python",
   "name": "python",
   "nbconvert_exporter": "python",
   "pygments_lexer": "ipython3",
   "version": "3.7.3"
  }
 },
 "nbformat": 4,
 "nbformat_minor": 2
}
