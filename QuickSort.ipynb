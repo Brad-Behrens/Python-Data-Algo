{
 "cells": [
  {
   "cell_type": "code",
   "execution_count": 2,
   "metadata": {},
   "outputs": [
    {
     "data": {
      "text/plain": [
       "[1, 3, 4, 8, 11, 32, 43, 54, 67, 68, 90]"
      ]
     },
     "execution_count": 2,
     "metadata": {},
     "output_type": "execute_result"
    }
   ],
   "source": [
    "# Quick Sort Algorithm\n",
    "\n",
    "\"\"\"\n",
    "Unsorted array => Sorts into either ascending/descending order.\n",
    "\n",
    "Take a pivot and compare rearranging array.\n",
    "\n",
    "O(nlog(n))\n",
    "\"\"\"\n",
    "\n",
    "array = [3,8,1,4,90,54,11,43,67,32,68]\n",
    "\n",
    "def quick_sort(array):\n",
    "    # Base Case\n",
    "    length = len(array)\n",
    "    if length <= 1:\n",
    "        return array\n",
    "    else:\n",
    "        # Pivot point is the last element in the array\n",
    "        pivot = array.pop()\n",
    "        \n",
    "    items_greater = []\n",
    "    items_lower = []\n",
    "    \n",
    "    for item in array:\n",
    "        if item > pivot:\n",
    "            items_greater.append(item)\n",
    "        else:\n",
    "            items_lower.append(item)\n",
    "    \n",
    "    return quick_sort(items_lower) + [pivot] + quick_sort(items_greater)\n",
    "\n",
    "quick_sort(array)"
   ]
  },
  {
   "cell_type": "code",
   "execution_count": null,
   "metadata": {},
   "outputs": [],
   "source": []
  }
 ],
 "metadata": {
  "kernelspec": {
   "display_name": "Python 3",
   "language": "python",
   "name": "python3"
  },
  "language_info": {
   "codemirror_mode": {
    "name": "ipython",
    "version": 3
   },
   "file_extension": ".py",
   "mimetype": "text/x-python",
   "name": "python",
   "nbconvert_exporter": "python",
   "pygments_lexer": "ipython3",
   "version": "3.7.3"
  }
 },
 "nbformat": 4,
 "nbformat_minor": 2
}
